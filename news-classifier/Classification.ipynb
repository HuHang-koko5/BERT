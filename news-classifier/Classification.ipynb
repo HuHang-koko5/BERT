{
 "cells": [
  {
   "cell_type": "code",
   "execution_count": 2,
   "metadata": {},
   "outputs": [],
   "source": [
    "import torch\n",
    "import torch.nn as nn\n",
    "import pandas as pd\n",
    "import numpy as np\n",
    "from torch.utils.data import Dataset,DataLoader\n",
    "from transformers import AutoTokenizer,AutoConfig,AutoModel,Trainer\n",
    "from tqdm import tqdm,trange,tqdm_notebook\n",
    "from tqdm.notebook import tqdm as notetqdm\n",
    "from torch.autograd import Variable\n",
    "from transformers import TrainingArguments\n",
    "import random\n",
    "import heapq"
   ]
  },
  {
   "cell_type": "code",
   "execution_count": 3,
   "metadata": {},
   "outputs": [],
   "source": [
    "MODEL_NAME = 'dccuchile/bert-base-spanish-wwm-cased'\n",
    "MAX_LENGTH = 512\n",
    "label_set = ['WORLD NEWS', 'ARTS & CULTURE', 'WEDDINGS', 'PARENTING', \n",
    "                 'BUSINESS & FINANCES', 'HOME & LIVING', 'EDUCATION', \n",
    "                 'WELLNESS', 'POLITICS', 'WOMEN', 'IMPACT', 'ENVIRONMENT', \n",
    "                 'SPORTS', 'FOOD & DRINK', 'GROUPS VOICES', 'MEDIA', \n",
    "                 'SCIENCE & TECH', 'CRIME', 'WEIRD NEWS', 'COMEDY', \n",
    "                 'RELIGION', 'MISCELLANEOUS', 'DIVORCE', 'ENTERTAINMENT',\n",
    "                 'STYLE & BEAUTY', 'TRAVEL']"
   ]
  },
  {
   "cell_type": "code",
   "execution_count": 4,
   "metadata": {},
   "outputs": [],
   "source": [
    "class BertForSequenceClassification(nn.Module):\n",
    "    def __init__(self,model_name,num_classes=None):\n",
    "        super().__init__()\n",
    "        config = AutoConfig.from_pretrained(model_name,num_labels=num_classes)\n",
    "\n",
    "        self.bert = AutoModel.from_pretrained(model_name,config=config)\n",
    "        self.MLP =nn.Linear(config.hidden_size,num_classes)\n",
    "        \n",
    "    def forward(self,features,attention_mask=None,head_mask=None):\n",
    "        \n",
    "        assert attention_mask is not None,'attention_mask is none'\n",
    "        bert_output = self.bert(input_ids=features,\n",
    "                               attention_mask=attention_mask,\n",
    "                               head_mask=head_mask)\n",
    "    \n",
    "        hidden_state = bert_output[0]\n",
    "\n",
    "        pool_output = hidden_state[:,0]\n",
    "        # print(pool_output)\n",
    "        # print(pool_output.shape)\n",
    "        logits = self.MLP(pool_output)\n",
    "        #logits.unsqueeze(1)\n",
    "        return logits\n",
    "\n",
    "def weight_init(m):\n",
    "    if isinstance(m,nn.Linear):\n",
    "        torch.nn.init.xavier_uniform_(m.weight)\n",
    "        torch.nn.init.constant_(m.bias,0)"
   ]
  },
  {
   "cell_type": "code",
   "execution_count": 5,
   "metadata": {},
   "outputs": [
    {
     "data": {
      "text/plain": [
       "<All keys matched successfully>"
      ]
     },
     "execution_count": 5,
     "metadata": {},
     "output_type": "execute_result"
    }
   ],
   "source": [
    "model = BertForSequenceClassification(MODEL_NAME,len(label_set))\n",
    "state_dict = torch.load('./results/lr3e-5/12-15-epoch-5.pth')\n",
    "model.load_state_dict(state_dict)"
   ]
  },
  {
   "cell_type": "code",
   "execution_count": 6,
   "metadata": {},
   "outputs": [],
   "source": [
    "tokenizer = AutoTokenizer.from_pretrained(MODEL_NAME)"
   ]
  },
  {
   "cell_type": "code",
   "execution_count": 7,
   "metadata": {},
   "outputs": [],
   "source": [
    "content = \"Talentos como Ai Haruna y Kayo Sato están resultando ser LGBT. GENKING ha anunciado que es gay. Además, entre los comediantes, Miyuki Torii ha confesado ser lesbiana, y Egashira 2:50 y Kazureza, una superaleación de arce, están resultando bisexuales. Además, en el extranjero, las actrices Jodie Foster y Elliot Page se están volviendo lesbianas. Figuras culturales como el CEO de Apple, Tim Cook, y el cantautor Elton John, también se están declarando homosexuales. Muchos atletas en el mundo del deporte están saliendo de LGBT. En los Juegos Olímpicos de Río 2016, una mujer del torneo hizo una propuesta pública a la jugadora brasileña Isadora Serlo en la sede de las chicas de rugby de siete. En los Juegos Olímpicos de Pyeongchang 2018, también se habló de que la escena en la que Gus Kenworthy, un esquiador de estilo libre estadounidense, besó al hombre de su amante, fue transmitida en vivo.\""
   ]
  },
  {
   "cell_type": "code",
   "execution_count": 8,
   "metadata": {},
   "outputs": [],
   "source": [
    "def predict(model,tkzr,content):\n",
    "    encoded_content = tkzr(content,add_special_tokens=True,padding='max_length',\n",
    "                           max_length=MAX_LENGTH,truncation=True,return_tensors='pt')\n",
    "    model.eval()\n",
    "    sums = 0\n",
    "    with torch.no_grad():\n",
    "        y_pred = model(encoded_content['input_ids'],encoded_content['attention_mask'])\n",
    "        sfm = nn.Softmax(dim=1)\n",
    "        ys = sfm(y_pred)[0].tolist()\n",
    "        pairs = []\n",
    "        for label,per in zip(label_set,ys):\n",
    "            pairs.append([label,per*100])\n",
    "        pairs.sort(key=lambda x:x[1],reverse=True)\n",
    "        return pairs[:3]"
   ]
  },
  {
   "cell_type": "code",
   "execution_count": 9,
   "metadata": {},
   "outputs": [
    {
     "data": {
      "text/plain": [
       "[['GROUPS VOICES', 89.45732116699219],\n",
       " ['SPORTS', 5.698367208242416],\n",
       " ['CRIME', 1.4883363619446754]]"
      ]
     },
     "execution_count": 9,
     "metadata": {},
     "output_type": "execute_result"
    }
   ],
   "source": [
    "res = predict(model,tokenizer,content)\n",
    "res"
   ]
  }
 ],
 "metadata": {
  "kernelspec": {
   "display_name": "Python 3",
   "language": "python",
   "name": "python3"
  },
  "language_info": {
   "codemirror_mode": {
    "name": "ipython",
    "version": 3
   },
   "file_extension": ".py",
   "mimetype": "text/x-python",
   "name": "python",
   "nbconvert_exporter": "python",
   "pygments_lexer": "ipython3",
   "version": "3.7.9"
  }
 },
 "nbformat": 4,
 "nbformat_minor": 4
}
